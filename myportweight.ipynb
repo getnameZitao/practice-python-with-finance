{
 "cells": [
  {
   "cell_type": "code",
   "execution_count": 86,
   "id": "fec557f1",
   "metadata": {},
   "outputs": [],
   "source": [
    "import yfinance as yf\n",
    "import pandas as pd\n",
    "from datetime import datetime, timedelta\n",
    "import numpy as np\n",
    "from scipy.optimize import minimize"
   ]
  },
  {
   "cell_type": "code",
   "execution_count": 87,
   "id": "a0d321ca",
   "metadata": {},
   "outputs": [],
   "source": [
    "tickers=['VOO', 'HOOD', 'SOFI', 'QQQ', 'BULL', 'U', 'RGTI', 'BBAI']"
   ]
  },
  {
   "cell_type": "code",
   "execution_count": 88,
   "id": "92af493e",
   "metadata": {},
   "outputs": [],
   "source": [
    "end_date=datetime.today()"
   ]
  },
  {
   "cell_type": "code",
   "execution_count": 89,
   "id": "2389280e",
   "metadata": {},
   "outputs": [
    {
     "name": "stdout",
     "output_type": "stream",
     "text": [
      "2020-08-05 10:28:46.105309\n"
     ]
    }
   ],
   "source": [
    "start_date=end_date-timedelta(days=5*365)\n",
    "print(start_date)"
   ]
  },
  {
   "cell_type": "code",
   "execution_count": 90,
   "id": "cde4a530",
   "metadata": {},
   "outputs": [],
   "source": [
    "adj_close_df=pd.DataFrame()"
   ]
  },
  {
   "cell_type": "code",
   "execution_count": 91,
   "id": "6ef478ca",
   "metadata": {},
   "outputs": [
    {
     "name": "stderr",
     "output_type": "stream",
     "text": [
      "[*********************100%***********************]  1 of 1 completed\n",
      "[*********************100%***********************]  1 of 1 completed\n",
      "[*********************100%***********************]  1 of 1 completed\n",
      "[*********************100%***********************]  1 of 1 completed\n",
      "[*********************100%***********************]  1 of 1 completed\n",
      "[*********************100%***********************]  1 of 1 completed\n",
      "[*********************100%***********************]  1 of 1 completed\n",
      "[*********************100%***********************]  1 of 1 completed\n"
     ]
    }
   ],
   "source": [
    "for ticker in tickers:\n",
    "    data=yf.download(ticker, auto_adjust=False, start = start_date, end = end_date)\n",
    "    adj_close_df[ticker] = data['Adj Close']"
   ]
  },
  {
   "cell_type": "code",
   "execution_count": 92,
   "id": "c56d613e",
   "metadata": {},
   "outputs": [
    {
     "name": "stdout",
     "output_type": "stream",
     "text": [
      "                   VOO        HOOD       SOFI         QQQ   BULL          U  \\\n",
      "Date                                                                          \n",
      "2020-08-05  283.282684         NaN        NaN  263.201691    NaN        NaN   \n",
      "2020-08-06  285.185760         NaN        NaN  266.687775    NaN        NaN   \n",
      "2020-08-07  285.334259         NaN        NaN  263.609528    NaN        NaN   \n",
      "2020-08-10  286.244080         NaN        NaN  262.483063    NaN        NaN   \n",
      "2020-08-11  283.932587         NaN        NaN  257.511353    NaN        NaN   \n",
      "...                ...         ...        ...         ...    ...        ...   \n",
      "2025-07-28  585.440002  106.769997  21.020000  568.140015  15.72  33.490002   \n",
      "2025-07-29  583.919983  103.320000  22.400000  567.260010  13.69  32.540001   \n",
      "2025-07-30  583.210022  106.099998  21.870001  568.020020  13.95  32.970001   \n",
      "2025-07-31  581.020020  103.050003  22.580000  565.010010  14.19  33.360001   \n",
      "2025-08-01  571.450012   99.900002  21.230000  553.880005  13.33  31.830000   \n",
      "\n",
      "             RGTI  BBAI  \n",
      "Date                     \n",
      "2020-08-05    NaN   NaN  \n",
      "2020-08-06    NaN   NaN  \n",
      "2020-08-07    NaN   NaN  \n",
      "2020-08-10    NaN   NaN  \n",
      "2020-08-11    NaN   NaN  \n",
      "...           ...   ...  \n",
      "2025-07-28  15.57  7.15  \n",
      "2025-07-29  14.47  6.62  \n",
      "2025-07-30  14.17  6.41  \n",
      "2025-07-31  14.50  6.35  \n",
      "2025-08-01  14.12  6.40  \n",
      "\n",
      "[1254 rows x 8 columns]\n"
     ]
    }
   ],
   "source": [
    "print(adj_close_df)"
   ]
  },
  {
   "cell_type": "code",
   "execution_count": 93,
   "id": "1cc5a99f",
   "metadata": {},
   "outputs": [],
   "source": [
    "log_returns = np.log(adj_close_df/adj_close_df.shift(1))"
   ]
  },
  {
   "cell_type": "code",
   "execution_count": 94,
   "id": "73ca7aaa",
   "metadata": {},
   "outputs": [],
   "source": [
    "log_returns = log_returns.dropna()"
   ]
  },
  {
   "cell_type": "code",
   "execution_count": 95,
   "id": "ae1f5946",
   "metadata": {},
   "outputs": [
    {
     "name": "stdout",
     "output_type": "stream",
     "text": [
      "           VOO      HOOD      SOFI       QQQ      BULL         U      RGTI  \\\n",
      "VOO   0.028383  0.061142  0.060346  0.035524  0.008207  0.066056  0.073580   \n",
      "HOOD  0.061142  0.393096  0.224845  0.079175  0.029199  0.217777  0.292026   \n",
      "SOFI  0.060346  0.224845  0.390040  0.076110  0.003037  0.219782  0.286656   \n",
      "QQQ   0.035524  0.079175  0.076110  0.048761  0.005361  0.089175  0.102583   \n",
      "BULL  0.008207  0.029199  0.003037  0.005361  1.071058 -0.034332  0.032752   \n",
      "U     0.066056  0.217777  0.219782  0.089175 -0.034332  0.501343  0.306391   \n",
      "RGTI  0.073580  0.292026  0.286656  0.102583  0.032752  0.306391  2.138968   \n",
      "BBAI  0.049438  0.252223  0.283835  0.064389 -0.002023  0.161264  0.629035   \n",
      "\n",
      "          BBAI  \n",
      "VOO   0.049438  \n",
      "HOOD  0.252223  \n",
      "SOFI  0.283835  \n",
      "QQQ   0.064389  \n",
      "BULL -0.002023  \n",
      "U     0.161264  \n",
      "RGTI  0.629035  \n",
      "BBAI  2.150219  \n"
     ]
    }
   ],
   "source": [
    "cov_matrix = log_returns.cov()*252\n",
    "print(cov_matrix)"
   ]
  },
  {
   "cell_type": "code",
   "execution_count": 96,
   "id": "3a854922",
   "metadata": {},
   "outputs": [],
   "source": [
    "def standard_deviation (weights, cov_matrix):\n",
    "    variance= weights.T @ cov_matrix @ weights\n",
    "    return np.sqrt(variance)"
   ]
  },
  {
   "cell_type": "code",
   "execution_count": 97,
   "id": "d6c1eb61",
   "metadata": {},
   "outputs": [],
   "source": [
    "def expected_return (weights, log_returns):\n",
    "    return np.sum(log_returns.mean()*weights)*252"
   ]
  },
  {
   "cell_type": "code",
   "execution_count": 98,
   "id": "52730562",
   "metadata": {},
   "outputs": [],
   "source": [
    "def sharpe_ratio (weights, log_returns, cov_matrix, risk_free_rate):\n",
    "    return(expected_return (weights, log_returns) - risk_free_rate) / standard_deviation (weights, cov_matrix)"
   ]
  },
  {
   "cell_type": "code",
   "execution_count": 99,
   "id": "a747e93d",
   "metadata": {},
   "outputs": [],
   "source": [
    "risk_free_rate = 0.0377"
   ]
  },
  {
   "cell_type": "code",
   "execution_count": 100,
   "id": "cab8c4b4",
   "metadata": {},
   "outputs": [],
   "source": [
    "def neg_sharpe_ratio (weights, log_returns, cov_matrix, risk_free_rate):\n",
    "    return -sharpe_ratio (weights, log_returns, cov_matrix, risk_free_rate)"
   ]
  },
  {
   "cell_type": "code",
   "execution_count": 101,
   "id": "c80fef3c",
   "metadata": {},
   "outputs": [],
   "source": [
    "constraints = {'type': 'eq', 'fun': lambda weights: np.sum(weights) - 1}\n",
    "bounds = [(0, 0.5) for _ in range(len(tickers))]"
   ]
  },
  {
   "cell_type": "code",
   "execution_count": 102,
   "id": "d50944fb",
   "metadata": {},
   "outputs": [
    {
     "name": "stdout",
     "output_type": "stream",
     "text": [
      "[0.125 0.125 0.125 0.125 0.125 0.125 0.125 0.125]\n"
     ]
    }
   ],
   "source": [
    "initial_weights = np.array([1/len(tickers)]*len(tickers))\n",
    "print(initial_weights)"
   ]
  },
  {
   "cell_type": "code",
   "execution_count": 103,
   "id": "fa0b9123",
   "metadata": {},
   "outputs": [],
   "source": [
    "optimized_results = minimize(neg_sharpe_ratio, initial_weights, args=(log_returns, cov_matrix, risk_free_rate), method='SLSQP', constraints=constraints, bounds=bounds)"
   ]
  },
  {
   "cell_type": "code",
   "execution_count": 104,
   "id": "7cdb02f0",
   "metadata": {},
   "outputs": [],
   "source": [
    "optimal_weights = optimized_results.x"
   ]
  },
  {
   "cell_type": "code",
   "execution_count": 105,
   "id": "9d4d3ae7",
   "metadata": {},
   "outputs": [
    {
     "name": "stdout",
     "output_type": "stream",
     "text": [
      "Optimal Weights:\n",
      "VOO:  0.2009\n",
      "HOOD:  0.5000\n",
      "SOFI:  0.0000\n",
      "QQQ:  0.2878\n",
      "BULL:  0.0112\n",
      "U:  0.0000\n",
      "RGTI:  0.0000\n",
      "BBAI:  0.0000\n",
      "\n",
      "Expected  Annual Return: 0.5000\n",
      "Expected Volatility: 0.3784\n",
      "Sharpe Ratio: 1.2217\n"
     ]
    }
   ],
   "source": [
    "print(\"Optimal Weights:\")\n",
    "for ticker, weight in zip(tickers, optimal_weights):\n",
    "    print(f\"{ticker}: {weight: .4f}\")\n",
    "print()\n",
    "\n",
    "optimal_portfolio_returns = expected_return(optimal_weights, log_returns)\n",
    "optimal_porfolio_volatility = standard_deviation(optimal_weights, cov_matrix)\n",
    "optimal_Sharpe_ratio = sharpe_ratio(optimal_weights, log_returns, cov_matrix, risk_free_rate)\n",
    "\n",
    "print(f\"Expected  Annual Return: {optimal_portfolio_returns:.4f}\")\n",
    "print(f\"Expected Volatility: {optimal_porfolio_volatility:.4f}\")\n",
    "print(f\"Sharpe Ratio: {optimal_Sharpe_ratio:.4f}\")"
   ]
  },
  {
   "cell_type": "code",
   "execution_count": 106,
   "id": "1ab98f7b",
   "metadata": {},
   "outputs": [
    {
     "data": {
      "image/png": "[encoded data removed]",
      "text/plain": [
       "<Figure size 640x480 with 1 Axes>"
      ]
     },
     "metadata": {},
     "output_type": "display_data"
    }
   ],
   "source": [
    "import matplotlib.pyplot as plot\n",
    "plot.Figure(figsize=(10, 6))\n",
    "plot.bar(tickers, optimal_weights)\n",
    "\n",
    "plot.xlabel(\"Asset\")\n",
    "plot.ylabel(\"Optimal Weights\")\n",
    "plot.title(\"Optimal Portfolio Weights\")\n",
    "plot.show()"
   ]
  }
 ],
 "metadata": {
  "kernelspec": {
   "display_name": ".venv",
   "language": "python",
   "name": "python3"
  },
  "language_info": {
   "codemirror_mode": {
    "name": "ipython",
    "version": 3
   },
   "file_extension": ".py",
   "mimetype": "text/x-python",
   "name": "python",
   "nbconvert_exporter": "python",
   "pygments_lexer": "ipython3",
   "version": "3.13.5"
  }
 },
 "nbformat": 4,
 "nbformat_minor": 5
}

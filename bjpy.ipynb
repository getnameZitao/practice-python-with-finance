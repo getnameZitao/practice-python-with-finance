{
 "cells": [
  {
   "cell_type": "code",
   "execution_count": 1,
   "id": "2ac9ed41",
   "metadata": {},
   "outputs": [
    {
     "name": "stdout",
     "output_type": "stream",
     "text": [
      "Hard Totals\n",
      "    Your Hand Dealer Shows                       Action\n",
      "0  8 or less          Any                          Hit\n",
      "1          9          3–6  Double (Hit if not allowed)\n",
      "2         10          2–9                       Double\n",
      "3         11         2–10                       Double\n",
      "4         12          4–6                        Stand\n",
      "5      13–16          2–6                        Stand\n",
      "6      12–16          7–A                          Hit\n",
      "7        17+          Any                        Stand\n",
      "\n",
      "Soft Totals\n",
      "   Your Hand Dealer Shows                            Action\n",
      "0   A,2–A,3          5–6                            Double\n",
      "1   A,4–A,5          4–6                            Double\n",
      "2       A,6          3–6                            Double\n",
      "3       A,7          3–6  Double\\n2,7,8 → Stand\\n9–A → Hit\n",
      "4   A,8–A,9          Any                             Stand\n",
      "\n",
      "Pairs\n",
      "    Your Pair Dealer Shows                Action\n",
      "0        A,A          Any                 Split\n",
      "1        8,8          Any                 Split\n",
      "2        9,9     2–6, 8–9                 Split\n",
      "3        7,7          2–7                 Split\n",
      "4        6,6          2–6                 Split\n",
      "5        5,5          2–9  Double (Don't split)\n",
      "6        4,4          5–6                 Split\n",
      "7  2,2 / 3,3          2–7                 Split\n",
      "8      10,10          Any                 Stand\n"
     ]
    }
   ],
   "source": [
    "import pandas as pd\n",
    "\n",
    "# Hard Totals\n",
    "hard_totals = pd.DataFrame([\n",
    "    [\"8 or less\", \"Any\", \"Hit\"],\n",
    "    [\"9\", \"3–6\", \"Double (Hit if not allowed)\"],\n",
    "    [\"10\", \"2–9\", \"Double\"],\n",
    "    [\"11\", \"2–10\", \"Double\"],\n",
    "    [\"12\", \"4–6\", \"Stand\"],\n",
    "    [\"13–16\", \"2–6\", \"Stand\"],\n",
    "    [\"12–16\", \"7–A\", \"Hit\"],\n",
    "    [\"17+\", \"Any\", \"Stand\"]\n",
    "], columns=[\"Your Hand\", \"Dealer Shows\", \"Action\"])\n",
    "\n",
    "# Soft Totals\n",
    "soft_totals = pd.DataFrame([\n",
    "    [\"A,2–A,3\", \"5–6\", \"Double\"],\n",
    "    [\"A,4–A,5\", \"4–6\", \"Double\"],\n",
    "    [\"A,6\", \"3–6\", \"Double\"],\n",
    "    [\"A,7\", \"3–6\", \"Double\\n2,7,8 → Stand\\n9–A → Hit\"],\n",
    "    [\"A,8–A,9\", \"Any\", \"Stand\"]\n",
    "], columns=[\"Your Hand\", \"Dealer Shows\", \"Action\"])\n",
    "\n",
    "# Pairs\n",
    "pairs = pd.DataFrame([\n",
    "    [\"A,A\", \"Any\", \"Split\"],\n",
    "    [\"8,8\", \"Any\", \"Split\"],\n",
    "    [\"9,9\", \"2–6, 8–9\", \"Split\"],\n",
    "    [\"7,7\", \"2–7\", \"Split\"],\n",
    "    [\"6,6\", \"2–6\", \"Split\"],\n",
    "    [\"5,5\", \"2–9\", \"Double (Don't split)\"],\n",
    "    [\"4,4\", \"5–6\", \"Split\"],\n",
    "    [\"2,2 / 3,3\", \"2–7\", \"Split\"],\n",
    "    [\"10,10\", \"Any\", \"Stand\"]\n",
    "], columns=[\"Your Pair\", \"Dealer Shows\", \"Action\"])\n",
    "\n",
    "# Print tables\n",
    "print(\"Hard Totals\\n\", hard_totals)\n",
    "print(\"\\nSoft Totals\\n\", soft_totals)\n",
    "print(\"\\nPairs\\n\", pairs)\n"
   ]
  }
 ],
 "metadata": {
  "kernelspec": {
   "display_name": ".venv",
   "language": "python",
   "name": "python3"
  },
  "language_info": {
   "codemirror_mode": {
    "name": "ipython",
    "version": 3
   },
   "file_extension": ".py",
   "mimetype": "text/x-python",
   "name": "python",
   "nbconvert_exporter": "python",
   "pygments_lexer": "ipython3",
   "version": "3.13.5"
  }
 },
 "nbformat": 4,
 "nbformat_minor": 5
}

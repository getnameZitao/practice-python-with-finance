{
 "cells": [
  {
   "cell_type": "code",
   "execution_count": 1,
   "id": "824387f3",
   "metadata": {},
   "outputs": [
    {
     "name": "stdout",
     "output_type": "stream",
     "text": [
      "hello\n",
      "<class 'str'>\n"
     ]
    }
   ],
   "source": [
    "print(\"hello\")\n",
    "print(type(\"hello world\"))"
   ]
  },
  {
   "cell_type": "code",
   "execution_count": 2,
   "id": "65d788a6",
   "metadata": {},
   "outputs": [
    {
     "name": "stdout",
     "output_type": "stream",
     "text": [
      "hello world\n"
     ]
    }
   ],
   "source": [
    "myStrinng = \"hello world\"\n",
    "print(myStrinng)"
   ]
  },
  {
   "cell_type": "code",
   "execution_count": 3,
   "id": "60193253",
   "metadata": {},
   "outputs": [
    {
     "name": "stdout",
     "output_type": "stream",
     "text": [
      "the amount of money in these stock is 300\n"
     ]
    }
   ],
   "source": [
    "stockPrice = 15\n",
    "numberofShares = 20\n",
    "print('the amount of money in these stock is ' + str(stockPrice*numberofShares))"
   ]
  },
  {
   "cell_type": "code",
   "execution_count": 4,
   "id": "7544d95a",
   "metadata": {},
   "outputs": [
    {
     "name": "stdout",
     "output_type": "stream",
     "text": [
      "<class 'list'>\n",
      "1\n",
      "2\n",
      "3\n",
      "4\n",
      "5\n",
      "6\n",
      "7\n",
      "8\n",
      "9\n",
      "10\n"
     ]
    }
   ],
   "source": [
    "values = [1, 2, 3, 4, 5, 6, 7, 8, 9, 10]\n",
    "print(type(values))\n",
    "for i in values:\n",
    "    print(i)"
   ]
  },
  {
   "cell_type": "code",
   "execution_count": 5,
   "id": "2028c17d",
   "metadata": {},
   "outputs": [
    {
     "name": "stdout",
     "output_type": "stream",
     "text": [
      "b is great than a\n"
     ]
    }
   ],
   "source": [
    "a = 15\n",
    "b = 20\n",
    "if a>b:\n",
    "   print(\"a is greater than b\")\n",
    "elif b>a:\n",
    "   print(\"b is great than a\")\n",
    " "
   ]
  },
  {
   "cell_type": "code",
   "execution_count": 6,
   "id": "3e74365e",
   "metadata": {},
   "outputs": [
    {
     "name": "stdout",
     "output_type": "stream",
     "text": [
      "6\n",
      "7\n",
      "8\n",
      "9\n",
      "10\n"
     ]
    }
   ],
   "source": [
    "for i in values:\n",
    "    if i>5:\n",
    "        print(i)"
   ]
  },
  {
   "cell_type": "code",
   "execution_count": 7,
   "id": "81a7305d",
   "metadata": {},
   "outputs": [],
   "source": [
    "import yfinance as yf\n",
    "import pandas as pd\n",
    "import datetime as dt\n",
    "import numpy as np"
   ]
  },
  {
   "cell_type": "code",
   "execution_count": 8,
   "id": "4e02aae9",
   "metadata": {},
   "outputs": [
    {
     "data": {
      "text/plain": [
       "(datetime.datetime(2025, 8, 3, 8, 12, 34, 5038),\n",
       " datetime.datetime(2020, 8, 4, 8, 12, 34, 5038))"
      ]
     },
     "execution_count": 8,
     "metadata": {},
     "output_type": "execute_result"
    }
   ],
   "source": [
    "endDate= dt.datetime.now() \n",
    "startDate= endDate - dt.timedelta(days = 365*5)\n",
    "endDate, startDate"
   ]
  },
  {
   "cell_type": "code",
   "execution_count": 9,
   "id": "7aac2b85",
   "metadata": {},
   "outputs": [],
   "source": [
    "stocks = ['QQQ', 'VOO', 'HOOD', 'SOFI', 'MSFT']"
   ]
  },
  {
   "cell_type": "code",
   "execution_count": 10,
   "id": "c9292453",
   "metadata": {},
   "outputs": [
    {
     "name": "stderr",
     "output_type": "stream",
     "text": [
      "[*********************100%***********************]  5 of 5 completed\n"
     ]
    }
   ],
   "source": [
    "dataframe = yf.download(stocks, auto_adjust=False, start=startDate, end=endDate)"
   ]
  },
  {
   "cell_type": "code",
   "execution_count": 11,
   "id": "b105d865",
   "metadata": {},
   "outputs": [
    {
     "data": {
      "text/html": [
       "<div>\n",
       "<style scoped>\n",
       "    .dataframe tbody tr th:only-of-type {\n",
       "        vertical-align: middle;\n",
       "    }\n",
       "\n",
       "    .dataframe tbody tr th {\n",
       "        vertical-align: top;\n",
       "    }\n",
       "\n",
       "    .dataframe thead tr th {\n",
       "        text-align: left;\n",
       "    }\n",
       "\n",
       "    .dataframe thead tr:last-of-type th {\n",
       "        text-align: right;\n",
       "    }\n",
       "</style>\n",
       "<table border=\"1\" class=\"dataframe\">\n",
       "  <thead>\n",
       "    <tr>\n",
       "      <th>Price</th>\n",
       "      <th colspan=\"5\" halign=\"left\">Adj Close</th>\n",
       "      <th colspan=\"5\" halign=\"left\">Close</th>\n",
       "      <th>...</th>\n",
       "      <th colspan=\"5\" halign=\"left\">Open</th>\n",
       "      <th colspan=\"5\" halign=\"left\">Volume</th>\n",
       "    </tr>\n",
       "    <tr>\n",
       "      <th>Ticker</th>\n",
       "      <th>HOOD</th>\n",
       "      <th>MSFT</th>\n",
       "      <th>QQQ</th>\n",
       "      <th>SOFI</th>\n",
       "      <th>VOO</th>\n",
       "      <th>HOOD</th>\n",
       "      <th>MSFT</th>\n",
       "      <th>QQQ</th>\n",
       "      <th>SOFI</th>\n",
       "      <th>VOO</th>\n",
       "      <th>...</th>\n",
       "      <th>HOOD</th>\n",
       "      <th>MSFT</th>\n",
       "      <th>QQQ</th>\n",
       "      <th>SOFI</th>\n",
       "      <th>VOO</th>\n",
       "      <th>HOOD</th>\n",
       "      <th>MSFT</th>\n",
       "      <th>QQQ</th>\n",
       "      <th>SOFI</th>\n",
       "      <th>VOO</th>\n",
       "    </tr>\n",
       "    <tr>\n",
       "      <th>Date</th>\n",
       "      <th></th>\n",
       "      <th></th>\n",
       "      <th></th>\n",
       "      <th></th>\n",
       "      <th></th>\n",
       "      <th></th>\n",
       "      <th></th>\n",
       "      <th></th>\n",
       "      <th></th>\n",
       "      <th></th>\n",
       "      <th></th>\n",
       "      <th></th>\n",
       "      <th></th>\n",
       "      <th></th>\n",
       "      <th></th>\n",
       "      <th></th>\n",
       "      <th></th>\n",
       "      <th></th>\n",
       "      <th></th>\n",
       "      <th></th>\n",
       "      <th></th>\n",
       "    </tr>\n",
       "  </thead>\n",
       "  <tbody>\n",
       "    <tr>\n",
       "      <th>2020-08-04</th>\n",
       "      <td>NaN</td>\n",
       "      <td>204.350098</td>\n",
       "      <td>262.550995</td>\n",
       "      <td>NaN</td>\n",
       "      <td>281.528198</td>\n",
       "      <td>NaN</td>\n",
       "      <td>213.289993</td>\n",
       "      <td>270.380005</td>\n",
       "      <td>NaN</td>\n",
       "      <td>303.260010</td>\n",
       "      <td>...</td>\n",
       "      <td>NaN</td>\n",
       "      <td>214.169998</td>\n",
       "      <td>268.859985</td>\n",
       "      <td>NaN</td>\n",
       "      <td>301.220001</td>\n",
       "      <td>NaN</td>\n",
       "      <td>49280100</td>\n",
       "      <td>24911300</td>\n",
       "      <td>NaN</td>\n",
       "      <td>2129200</td>\n",
       "    </tr>\n",
       "    <tr>\n",
       "      <th>2020-08-05</th>\n",
       "      <td>NaN</td>\n",
       "      <td>204.014801</td>\n",
       "      <td>263.201721</td>\n",
       "      <td>NaN</td>\n",
       "      <td>283.282623</td>\n",
       "      <td>NaN</td>\n",
       "      <td>212.940002</td>\n",
       "      <td>271.049988</td>\n",
       "      <td>NaN</td>\n",
       "      <td>305.149994</td>\n",
       "      <td>...</td>\n",
       "      <td>NaN</td>\n",
       "      <td>214.899994</td>\n",
       "      <td>270.880005</td>\n",
       "      <td>NaN</td>\n",
       "      <td>304.609985</td>\n",
       "      <td>NaN</td>\n",
       "      <td>28806400</td>\n",
       "      <td>21612100</td>\n",
       "      <td>NaN</td>\n",
       "      <td>2615100</td>\n",
       "    </tr>\n",
       "    <tr>\n",
       "      <th>2020-08-06</th>\n",
       "      <td>NaN</td>\n",
       "      <td>207.281830</td>\n",
       "      <td>266.687744</td>\n",
       "      <td>NaN</td>\n",
       "      <td>285.185730</td>\n",
       "      <td>NaN</td>\n",
       "      <td>216.350006</td>\n",
       "      <td>274.640015</td>\n",
       "      <td>NaN</td>\n",
       "      <td>307.200012</td>\n",
       "      <td>...</td>\n",
       "      <td>NaN</td>\n",
       "      <td>212.339996</td>\n",
       "      <td>270.850006</td>\n",
       "      <td>NaN</td>\n",
       "      <td>304.579987</td>\n",
       "      <td>NaN</td>\n",
       "      <td>32656800</td>\n",
       "      <td>28048200</td>\n",
       "      <td>NaN</td>\n",
       "      <td>4088200</td>\n",
       "    </tr>\n",
       "    <tr>\n",
       "      <th>2020-08-07</th>\n",
       "      <td>NaN</td>\n",
       "      <td>203.574051</td>\n",
       "      <td>263.609497</td>\n",
       "      <td>NaN</td>\n",
       "      <td>285.334259</td>\n",
       "      <td>NaN</td>\n",
       "      <td>212.479996</td>\n",
       "      <td>271.470001</td>\n",
       "      <td>NaN</td>\n",
       "      <td>307.359985</td>\n",
       "      <td>...</td>\n",
       "      <td>NaN</td>\n",
       "      <td>214.850006</td>\n",
       "      <td>274.079987</td>\n",
       "      <td>NaN</td>\n",
       "      <td>306.230011</td>\n",
       "      <td>NaN</td>\n",
       "      <td>27820400</td>\n",
       "      <td>44969400</td>\n",
       "      <td>NaN</td>\n",
       "      <td>3319600</td>\n",
       "    </tr>\n",
       "    <tr>\n",
       "      <th>2020-08-10</th>\n",
       "      <td>NaN</td>\n",
       "      <td>199.521332</td>\n",
       "      <td>262.483124</td>\n",
       "      <td>NaN</td>\n",
       "      <td>286.243988</td>\n",
       "      <td>NaN</td>\n",
       "      <td>208.250000</td>\n",
       "      <td>270.309998</td>\n",
       "      <td>NaN</td>\n",
       "      <td>308.339996</td>\n",
       "      <td>...</td>\n",
       "      <td>NaN</td>\n",
       "      <td>211.669998</td>\n",
       "      <td>271.769989</td>\n",
       "      <td>NaN</td>\n",
       "      <td>307.880005</td>\n",
       "      <td>NaN</td>\n",
       "      <td>36716500</td>\n",
       "      <td>35088400</td>\n",
       "      <td>NaN</td>\n",
       "      <td>2118200</td>\n",
       "    </tr>\n",
       "  </tbody>\n",
       "</table>\n",
       "<p>5 rows × 30 columns</p>\n",
       "</div>"
      ],
      "text/plain": [
       "Price      Adj Close                                          Close  \\\n",
       "Ticker          HOOD        MSFT         QQQ SOFI         VOO  HOOD   \n",
       "Date                                                                  \n",
       "2020-08-04       NaN  204.350098  262.550995  NaN  281.528198   NaN   \n",
       "2020-08-05       NaN  204.014801  263.201721  NaN  283.282623   NaN   \n",
       "2020-08-06       NaN  207.281830  266.687744  NaN  285.185730   NaN   \n",
       "2020-08-07       NaN  203.574051  263.609497  NaN  285.334259   NaN   \n",
       "2020-08-10       NaN  199.521332  262.483124  NaN  286.243988   NaN   \n",
       "\n",
       "Price                                                ... Open              \\\n",
       "Ticker            MSFT         QQQ SOFI         VOO  ... HOOD        MSFT   \n",
       "Date                                                 ...                    \n",
       "2020-08-04  213.289993  270.380005  NaN  303.260010  ...  NaN  214.169998   \n",
       "2020-08-05  212.940002  271.049988  NaN  305.149994  ...  NaN  214.899994   \n",
       "2020-08-06  216.350006  274.640015  NaN  307.200012  ...  NaN  212.339996   \n",
       "2020-08-07  212.479996  271.470001  NaN  307.359985  ...  NaN  214.850006   \n",
       "2020-08-10  208.250000  270.309998  NaN  308.339996  ...  NaN  211.669998   \n",
       "\n",
       "Price                                   Volume                           \\\n",
       "Ticker             QQQ SOFI         VOO   HOOD      MSFT       QQQ SOFI   \n",
       "Date                                                                      \n",
       "2020-08-04  268.859985  NaN  301.220001    NaN  49280100  24911300  NaN   \n",
       "2020-08-05  270.880005  NaN  304.609985    NaN  28806400  21612100  NaN   \n",
       "2020-08-06  270.850006  NaN  304.579987    NaN  32656800  28048200  NaN   \n",
       "2020-08-07  274.079987  NaN  306.230011    NaN  27820400  44969400  NaN   \n",
       "2020-08-10  271.769989  NaN  307.880005    NaN  36716500  35088400  NaN   \n",
       "\n",
       "Price                \n",
       "Ticker          VOO  \n",
       "Date                 \n",
       "2020-08-04  2129200  \n",
       "2020-08-05  2615100  \n",
       "2020-08-06  4088200  \n",
       "2020-08-07  3319600  \n",
       "2020-08-10  2118200  \n",
       "\n",
       "[5 rows x 30 columns]"
      ]
     },
     "execution_count": 11,
     "metadata": {},
     "output_type": "execute_result"
    }
   ],
   "source": [
    "dataframe.head()"
   ]
  },
  {
   "cell_type": "code",
   "execution_count": 12,
   "id": "d108e40c",
   "metadata": {},
   "outputs": [
    {
     "data": {
      "text/html": [
       "<div>\n",
       "<style scoped>\n",
       "    .dataframe tbody tr th:only-of-type {\n",
       "        vertical-align: middle;\n",
       "    }\n",
       "\n",
       "    .dataframe tbody tr th {\n",
       "        vertical-align: top;\n",
       "    }\n",
       "\n",
       "    .dataframe thead th {\n",
       "        text-align: right;\n",
       "    }\n",
       "</style>\n",
       "<table border=\"1\" class=\"dataframe\">\n",
       "  <thead>\n",
       "    <tr style=\"text-align: right;\">\n",
       "      <th>Ticker</th>\n",
       "      <th>HOOD</th>\n",
       "      <th>MSFT</th>\n",
       "      <th>QQQ</th>\n",
       "      <th>SOFI</th>\n",
       "      <th>VOO</th>\n",
       "    </tr>\n",
       "    <tr>\n",
       "      <th>Date</th>\n",
       "      <th></th>\n",
       "      <th></th>\n",
       "      <th></th>\n",
       "      <th></th>\n",
       "      <th></th>\n",
       "    </tr>\n",
       "  </thead>\n",
       "  <tbody>\n",
       "    <tr>\n",
       "      <th>2020-08-04</th>\n",
       "      <td>NaN</td>\n",
       "      <td>204.350098</td>\n",
       "      <td>262.550995</td>\n",
       "      <td>NaN</td>\n",
       "      <td>281.528198</td>\n",
       "    </tr>\n",
       "    <tr>\n",
       "      <th>2020-08-05</th>\n",
       "      <td>NaN</td>\n",
       "      <td>204.014801</td>\n",
       "      <td>263.201721</td>\n",
       "      <td>NaN</td>\n",
       "      <td>283.282623</td>\n",
       "    </tr>\n",
       "    <tr>\n",
       "      <th>2020-08-06</th>\n",
       "      <td>NaN</td>\n",
       "      <td>207.281830</td>\n",
       "      <td>266.687744</td>\n",
       "      <td>NaN</td>\n",
       "      <td>285.185730</td>\n",
       "    </tr>\n",
       "    <tr>\n",
       "      <th>2020-08-07</th>\n",
       "      <td>NaN</td>\n",
       "      <td>203.574051</td>\n",
       "      <td>263.609497</td>\n",
       "      <td>NaN</td>\n",
       "      <td>285.334259</td>\n",
       "    </tr>\n",
       "    <tr>\n",
       "      <th>2020-08-10</th>\n",
       "      <td>NaN</td>\n",
       "      <td>199.521332</td>\n",
       "      <td>262.483124</td>\n",
       "      <td>NaN</td>\n",
       "      <td>286.243988</td>\n",
       "    </tr>\n",
       "  </tbody>\n",
       "</table>\n",
       "</div>"
      ],
      "text/plain": [
       "Ticker      HOOD        MSFT         QQQ  SOFI         VOO\n",
       "Date                                                      \n",
       "2020-08-04   NaN  204.350098  262.550995   NaN  281.528198\n",
       "2020-08-05   NaN  204.014801  263.201721   NaN  283.282623\n",
       "2020-08-06   NaN  207.281830  266.687744   NaN  285.185730\n",
       "2020-08-07   NaN  203.574051  263.609497   NaN  285.334259\n",
       "2020-08-10   NaN  199.521332  262.483124   NaN  286.243988"
      ]
     },
     "execution_count": 12,
     "metadata": {},
     "output_type": "execute_result"
    }
   ],
   "source": [
    "adj_close_prices = dataframe['Adj Close']\n",
    "adj_close_prices.head()"
   ]
  },
  {
   "cell_type": "code",
   "execution_count": 13,
   "id": "b04c32a8",
   "metadata": {},
   "outputs": [
    {
     "data": {
      "text/html": [
       "<div>\n",
       "<style scoped>\n",
       "    .dataframe tbody tr th:only-of-type {\n",
       "        vertical-align: middle;\n",
       "    }\n",
       "\n",
       "    .dataframe tbody tr th {\n",
       "        vertical-align: top;\n",
       "    }\n",
       "\n",
       "    .dataframe thead th {\n",
       "        text-align: right;\n",
       "    }\n",
       "</style>\n",
       "<table border=\"1\" class=\"dataframe\">\n",
       "  <thead>\n",
       "    <tr style=\"text-align: right;\">\n",
       "      <th>Ticker</th>\n",
       "      <th>HOOD</th>\n",
       "      <th>MSFT</th>\n",
       "      <th>QQQ</th>\n",
       "      <th>SOFI</th>\n",
       "      <th>VOO</th>\n",
       "    </tr>\n",
       "    <tr>\n",
       "      <th>Date</th>\n",
       "      <th></th>\n",
       "      <th></th>\n",
       "      <th></th>\n",
       "      <th></th>\n",
       "      <th></th>\n",
       "    </tr>\n",
       "  </thead>\n",
       "  <tbody>\n",
       "    <tr>\n",
       "      <th>2020-08-04</th>\n",
       "      <td>NaN</td>\n",
       "      <td>NaN</td>\n",
       "      <td>NaN</td>\n",
       "      <td>NaN</td>\n",
       "      <td>NaN</td>\n",
       "    </tr>\n",
       "    <tr>\n",
       "      <th>2020-08-05</th>\n",
       "      <td>NaN</td>\n",
       "      <td>-0.001642</td>\n",
       "      <td>0.002475</td>\n",
       "      <td>NaN</td>\n",
       "      <td>0.006212</td>\n",
       "    </tr>\n",
       "    <tr>\n",
       "      <th>2020-08-06</th>\n",
       "      <td>NaN</td>\n",
       "      <td>0.015887</td>\n",
       "      <td>0.013158</td>\n",
       "      <td>NaN</td>\n",
       "      <td>0.006696</td>\n",
       "    </tr>\n",
       "    <tr>\n",
       "      <th>2020-08-07</th>\n",
       "      <td>NaN</td>\n",
       "      <td>-0.018050</td>\n",
       "      <td>-0.011610</td>\n",
       "      <td>NaN</td>\n",
       "      <td>0.000521</td>\n",
       "    </tr>\n",
       "    <tr>\n",
       "      <th>2020-08-10</th>\n",
       "      <td>NaN</td>\n",
       "      <td>-0.020109</td>\n",
       "      <td>-0.004282</td>\n",
       "      <td>NaN</td>\n",
       "      <td>0.003183</td>\n",
       "    </tr>\n",
       "  </tbody>\n",
       "</table>\n",
       "</div>"
      ],
      "text/plain": [
       "Ticker      HOOD      MSFT       QQQ  SOFI       VOO\n",
       "Date                                                \n",
       "2020-08-04   NaN       NaN       NaN   NaN       NaN\n",
       "2020-08-05   NaN -0.001642  0.002475   NaN  0.006212\n",
       "2020-08-06   NaN  0.015887  0.013158   NaN  0.006696\n",
       "2020-08-07   NaN -0.018050 -0.011610   NaN  0.000521\n",
       "2020-08-10   NaN -0.020109 -0.004282   NaN  0.003183"
      ]
     },
     "execution_count": 13,
     "metadata": {},
     "output_type": "execute_result"
    }
   ],
   "source": [
    "log_returns=np.log(adj_close_prices/adj_close_prices.shift(1))\n",
    "log_returns.head()"
   ]
  },
  {
   "cell_type": "code",
   "execution_count": 14,
   "id": "c908f033",
   "metadata": {},
   "outputs": [],
   "source": [
    "cumulative_log_returns=log_returns.cumsum()"
   ]
  },
  {
   "cell_type": "code",
   "execution_count": 15,
   "id": "dbd14a37",
   "metadata": {},
   "outputs": [
    {
     "data": {
      "text/plain": [
       "<Axes: title={'center': 'Cumulative Returns'}, xlabel='Date'>"
      ]
     },
     "execution_count": 15,
     "metadata": {},
     "output_type": "execute_result"
    },
    {
     "data": {
      "image/png": "[encoded data removed]",
      "text/plain": [
       "<Figure size 1000x600 with 1 Axes>"
      ]
     },
     "metadata": {},
     "output_type": "display_data"
    }
   ],
   "source": [
    "cumulative_log_returns.plot(title = \"Cumulative Returns\", figsize = (10,6))"
   ]
  },
  {
   "cell_type": "code",
   "execution_count": null,
   "id": "02949f9b",
   "metadata": {},
   "outputs": [],
   "source": []
  }
 ],
 "metadata": {
  "kernelspec": {
   "display_name": ".venv",
   "language": "python",
   "name": "python3"
  },
  "language_info": {
   "codemirror_mode": {
    "name": "ipython",
    "version": 3
   },
   "file_extension": ".py",
   "mimetype": "text/x-python",
   "name": "python",
   "nbconvert_exporter": "python",
   "pygments_lexer": "ipython3",
   "version": "3.13.5"
  }
 },
 "nbformat": 4,
 "nbformat_minor": 5
}

{
 "cells": [
  {
   "cell_type": "code",
   "execution_count": 1,
   "id": "af959cf2",
   "metadata": {},
   "outputs": [],
   "source": [
    "import yfinance as yf\n",
    "import pandas as pd\n",
    "from datetime import datetime, timedelta\n",
    "import os"
   ]
  },
  {
   "cell_type": "code",
   "execution_count": 2,
   "id": "96972f15",
   "metadata": {},
   "outputs": [],
   "source": [
    "tickers = ['QQQ', 'VOO', 'HOOD', 'SOFI','BTC', 'ETH']\n"
   ]
  },
  {
   "cell_type": "code",
   "execution_count": 3,
   "id": "2e3797e2",
   "metadata": {},
   "outputs": [
    {
     "name": "stdout",
     "output_type": "stream",
     "text": [
      "2025-08-03 08:13:19.581337\n"
     ]
    }
   ],
   "source": [
    "end_date = datetime.today()\n",
    "print(end_date)"
   ]
  },
  {
   "cell_type": "code",
   "execution_count": 4,
   "id": "3ea56efa",
   "metadata": {},
   "outputs": [
    {
     "name": "stdout",
     "output_type": "stream",
     "text": [
      "2021-08-04 08:13:19.581337\n"
     ]
    }
   ],
   "source": [
    "start_date = end_date - timedelta(days = 4*365)\n",
    "print(start_date)"
   ]
  },
  {
   "cell_type": "code",
   "execution_count": 5,
   "id": "30f6e8aa",
   "metadata": {},
   "outputs": [],
   "source": [
    "close_df = pd.DataFrame()"
   ]
  },
  {
   "cell_type": "code",
   "execution_count": 6,
   "id": "bcd67357",
   "metadata": {},
   "outputs": [
    {
     "name": "stderr",
     "output_type": "stream",
     "text": [
      "[*********************100%***********************]  1 of 1 completed\n",
      "[*********************100%***********************]  1 of 1 completed\n",
      "[*********************100%***********************]  1 of 1 completed\n",
      "[*********************100%***********************]  1 of 1 completed\n",
      "[*********************100%***********************]  1 of 1 completed\n",
      "[*********************100%***********************]  1 of 1 completed\n"
     ]
    }
   ],
   "source": [
    "for ticker in tickers:\n",
    "    data=yf.download(ticker, auto_adjust=False, start=start_date, end=end_date)\n",
    "    close_df[ticker] = data['Adj Close']"
   ]
  },
  {
   "cell_type": "code",
   "execution_count": 7,
   "id": "8207ce93",
   "metadata": {},
   "outputs": [
    {
     "name": "stdout",
     "output_type": "stream",
     "text": [
      "                   QQQ         VOO        HOOD       SOFI        BTC  \\\n",
      "Date                                                                   \n",
      "2021-08-04  358.216461  380.469574   70.389999  16.389999        NaN   \n",
      "2021-08-05  360.488647  382.845001   50.970001  16.059999        NaN   \n",
      "2021-08-06  358.908875  383.504730   55.009998  16.709999        NaN   \n",
      "2021-08-09  359.572113  383.137146   56.830002  16.910000        NaN   \n",
      "2021-08-10  357.728943  383.617920   53.939999  16.990000        NaN   \n",
      "...                ...         ...         ...        ...        ...   \n",
      "2025-07-28  568.140015  585.440002  106.769997  21.020000  52.330002   \n",
      "2025-07-29  567.260010  583.919983  103.320000  22.400000  52.040001   \n",
      "2025-07-30  568.020020  583.210022  106.099998  21.870001  51.770000   \n",
      "2025-07-31  565.010010  581.020020  103.050003  22.580000  51.700001   \n",
      "2025-08-01  553.880005  571.450012   99.900002  21.230000  50.049999   \n",
      "\n",
      "                  ETH  \n",
      "Date                   \n",
      "2021-08-04        NaN  \n",
      "2021-08-05        NaN  \n",
      "2021-08-06        NaN  \n",
      "2021-08-09        NaN  \n",
      "2021-08-10        NaN  \n",
      "...               ...  \n",
      "2025-07-28  35.779999  \n",
      "2025-07-29  35.450001  \n",
      "2025-07-30  35.430000  \n",
      "2025-07-31  35.169998  \n",
      "2025-08-01  32.980000  \n",
      "\n",
      "[1003 rows x 6 columns]\n"
     ]
    }
   ],
   "source": [
    "print(close_df)"
   ]
  },
  {
   "cell_type": "code",
   "execution_count": 8,
   "id": "18338703",
   "metadata": {},
   "outputs": [],
   "source": [
    "output_folder = r'/Users/zitaohuang/Desktop/Practicing PyFi'"
   ]
  },
  {
   "cell_type": "code",
   "execution_count": 9,
   "id": "28a6c7b7",
   "metadata": {},
   "outputs": [],
   "source": [
    "output_file = os.path.join(output_folder, 'stock_prices.csv')\n",
    "close_df.to_csv(output_file)"
   ]
  },
  {
   "cell_type": "code",
   "execution_count": null,
   "id": "d4d2b0c8",
   "metadata": {},
   "outputs": [],
   "source": []
  }
 ],
 "metadata": {
  "kernelspec": {
   "display_name": ".venv",
   "language": "python",
   "name": "python3"
  },
  "language_info": {
   "codemirror_mode": {
    "name": "ipython",
    "version": 3
   },
   "file_extension": ".py",
   "mimetype": "text/x-python",
   "name": "python",
   "nbconvert_exporter": "python",
   "pygments_lexer": "ipython3",
   "version": "3.13.5"
  }
 },
 "nbformat": 4,
 "nbformat_minor": 5
}

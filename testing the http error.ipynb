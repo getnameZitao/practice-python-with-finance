{
 "cells": [
  {
   "cell_type": "code",
   "execution_count": 2,
   "id": "ef536e98",
   "metadata": {},
   "outputs": [
    {
     "name": "stdout",
     "output_type": "stream",
     "text": [
      "  Symbol                           Name  Unnamed: 2  \\\n",
      "0  ^GSPC                        S&P 500         NaN   \n",
      "1   ^DJI   Dow Jones Industrial Average         NaN   \n",
      "2  ^IXIC               NASDAQ Composite         NaN   \n",
      "3   ^NYA           NYSE Composite Index         NaN   \n",
      "4   ^XAX  NYSE American Composite Index         NaN   \n",
      "\n",
      "                        Price  Change Change %    Volume  Day Range  \\\n",
      "0   6,238.01 -101.38 (-1.60%) -101.38   -1.60%    3.613B        NaN   \n",
      "1  43,588.58 -542.40 (-1.23%) -542.40   -1.23%  705.158M        NaN   \n",
      "2  20,650.13 -472.32 (-2.24%) -472.32   -2.24%    8.412B        NaN   \n",
      "3  20,267.69 -190.76 (-0.93%) -190.76   -0.93%         0        NaN   \n",
      "4    5,963.78 -11.77 (-0.20%)  -11.77   -0.20%         0        NaN   \n",
      "\n",
      "   52 Wk Range  \n",
      "0          NaN  \n",
      "1          NaN  \n",
      "2          NaN  \n",
      "3          NaN  \n",
      "4          NaN  \n"
     ]
    },
    {
     "name": "stderr",
     "output_type": "stream",
     "text": [
      "/var/folders/fy/1ly73qh9525d32brxgtyl1bm0000gn/T/ipykernel_50843/2793256891.py:16: FutureWarning: Passing literal html to 'read_html' is deprecated and will be removed in a future version. To read from a literal string, wrap it in a 'StringIO' object.\n",
      "  major_indice = pd.read_html(response.text)\n"
     ]
    }
   ],
   "source": [
    "import pandas as pd\n",
    "import requests\n",
    "from bs4 import BeautifulSoup\n",
    "\n",
    "url = \"https://finance.yahoo.com/markets/world-indices/\"\n",
    "\n",
    "headers = {\n",
    "    \"User-Agent\": \"Mozilla/5.0 (Macintosh; Intel Mac OS X 10_15_7) AppleWebKit/605.1.15 (KHTML, like Gecko) Version/18.5 Safari/605.1.15\"\n",
    "}\n",
    "\n",
    "# Make the request manually\n",
    "response = requests.get(url, headers=headers)\n",
    "response.raise_for_status()\n",
    "\n",
    "# Use pandas to read the tables from the raw HTML content\n",
    "major_indice = pd.read_html(response.text)\n",
    "\n",
    "# Check the first table (you can adjust this depending on structure)\n",
    "print(major_indice[0].head())\n"
   ]
  },
  {
   "cell_type": "markdown",
   "id": "d39ed3af",
   "metadata": {},
   "source": [
    "this is resolved code from chatgpt, it uses a longer method to read the html string, and i don't really like this method because it is not simple to use"
   ]
  },
  {
   "cell_type": "markdown",
   "id": "a223f173",
   "metadata": {},
   "source": [
    "the fact is that the read_html function in pd is deprecated, so I wouldn't use this to scrap data in the big '25, plus you can also see it runs into an error again for some reason, i dont get it"
   ]
  }
 ],
 "metadata": {
  "kernelspec": {
   "display_name": ".venv",
   "language": "python",
   "name": "python3"
  },
  "language_info": {
   "codemirror_mode": {
    "name": "ipython",
    "version": 3
   },
   "file_extension": ".py",
   "mimetype": "text/x-python",
   "name": "python",
   "nbconvert_exporter": "python",
   "pygments_lexer": "ipython3",
   "version": "3.13.5"
  }
 },
 "nbformat": 4,
 "nbformat_minor": 5
}

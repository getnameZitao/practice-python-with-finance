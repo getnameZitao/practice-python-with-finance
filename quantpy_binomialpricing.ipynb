{
 "cells": [
  {
   "cell_type": "markdown",
   "id": "62769fc0",
   "metadata": {},
   "source": [
    "In this file, I will follow the quantpy binomial option pricing model to learn how to price and arbitrage using the theory discussed in the video and the python tutorial shown"
   ]
  },
  {
   "cell_type": "code",
   "execution_count": 1,
   "id": "acd715d4",
   "metadata": {},
   "outputs": [],
   "source": [
    "import numpy as np"
   ]
  },
  {
   "cell_type": "code",
   "execution_count": 2,
   "id": "3b5eebd9",
   "metadata": {},
   "outputs": [],
   "source": [
    "#prices are represented as nodes\n",
    "#initialize parameters\n",
    "S0 = 100 #initial stock $\n",
    "K = 100 #strike price\n",
    "T = 1 #time to maturity in years\n",
    "r = 0.06 #annual risk-free rate\n",
    "N = 3 #number of time steps\n",
    "u = 1.1 #up-factor in binomial models\n",
    "d = 1/u #ensure recombining tree\n",
    "optype = 'C' #option type C or P"
   ]
  },
  {
   "cell_type": "code",
   "execution_count": 10,
   "id": "05b31d6b",
   "metadata": {},
   "outputs": [
    {
     "data": {
      "text/plain": [
       "np.float64(10.145735799928817)"
      ]
     },
     "execution_count": 10,
     "metadata": {},
     "output_type": "execute_result"
    }
   ],
   "source": [
    "def binomial_tree_slow(K,T,S0,r,N,u,d,opttype = 'C'):\n",
    "    #precompute constants\n",
    "    dt = T/N\n",
    "    q = (np.exp(r*dt) -d) / (u-d)\n",
    "    disc = np.exp(-r*dt)\n",
    "\n",
    "    #initialize asset prices at maturity - Time step N\n",
    "    S = np.zeros(N + 1)\n",
    "    S[0] = S0*d**N\n",
    "    for j in range(1, N+1):\n",
    "        S[j] = S[j-1]*u/d\n",
    "    #initialize option values at maturity\n",
    "    C = np.zeros(N+1)\n",
    "    for j in range(0,N+1):\n",
    "        C[j] = max(0, S[j]-K)\n",
    "    #step backwards through tree\n",
    "    for i in np.arange(N,0,-1):\n",
    "        for j in range(0,i):\n",
    "            C[j] = disc*(q*C[j+1] + (1-q)*C[j])\n",
    "    return C[0]\n",
    "binomial_tree_slow(K,T,S0,r,N,u,d,opttype = 'C')\n"
   ]
  },
  {
   "cell_type": "code",
   "execution_count": 16,
   "id": "1051c581",
   "metadata": {},
   "outputs": [
    {
     "data": {
      "text/plain": [
       "np.float64(0.0)"
      ]
     },
     "execution_count": 16,
     "metadata": {},
     "output_type": "execute_result"
    }
   ],
   "source": [
    "def binomial_tree_fast(K,T,S0,r,N,u,d,opttype = 'C'):\n",
    "    #precompute constants\n",
    "    dt = T/N\n",
    "    q = (np.exp(r*dt) - d) / (u-d)\n",
    "    disc = np.exp(-r*dt)\n",
    "\n",
    "    #initialize asset prices at maturity - Time step N\n",
    "    C = S0 * d ** (np.arange(N,-1,-1)) * u ** (np.arange(0,N+1,1))\n",
    "    #initialize option values at maturity\n",
    "    C = np.maximum(C - K, np.zeros(N+1))\n",
    "    #step backwards through tree\n",
    "    for i in np.arange(N,0,-1):\n",
    "        C = disc * (q*C[1:1+1] * (1-q)*C[0:i])\n",
    "    return C[0]\n",
    "binomial_tree_fast(K,T,S0,r,N,u,d,opttype = 'C')"
   ]
  },
  {
   "cell_type": "markdown",
   "id": "197cba2c",
   "metadata": {},
   "source": [
    "the value returned seems wrong, it should match the value previously"
   ]
  }
 ],
 "metadata": {
  "kernelspec": {
   "display_name": ".venv",
   "language": "python",
   "name": "python3"
  },
  "language_info": {
   "codemirror_mode": {
    "name": "ipython",
    "version": 3
   },
   "file_extension": ".py",
   "mimetype": "text/x-python",
   "name": "python",
   "nbconvert_exporter": "python",
   "pygments_lexer": "ipython3",
   "version": "3.13.5"
  }
 },
 "nbformat": 4,
 "nbformat_minor": 5
}

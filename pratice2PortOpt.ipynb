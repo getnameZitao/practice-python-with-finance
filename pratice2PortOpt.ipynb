{
 "cells": [
  {
   "cell_type": "code",
   "execution_count": 1,
   "id": "d8e5842a",
   "metadata": {},
   "outputs": [],
   "source": [
    "import yfinance as yf\n",
    "import pandas as pd\n",
    "from datetime import datetime, timedelta\n",
    "import numpy as np\n",
    "from scipy.optimize import minimize"
   ]
  },
  {
   "cell_type": "code",
   "execution_count": 2,
   "id": "f74d4d1f",
   "metadata": {},
   "outputs": [],
   "source": [
    "tickers=['SPY', 'BND', 'GLD', 'QQQ', 'VTI', 'BTC']"
   ]
  },
  {
   "cell_type": "code",
   "execution_count": 3,
   "id": "3cd91df0",
   "metadata": {},
   "outputs": [],
   "source": [
    "end_date=datetime.today()"
   ]
  },
  {
   "cell_type": "code",
   "execution_count": 4,
   "id": "46ca60a4",
   "metadata": {},
   "outputs": [
    {
     "name": "stdout",
     "output_type": "stream",
     "text": [
      "2020-08-04 08:12:55.526818\n"
     ]
    }
   ],
   "source": [
    "start_date=end_date-timedelta(days=5*365)\n",
    "print(start_date)"
   ]
  },
  {
   "cell_type": "code",
   "execution_count": 5,
   "id": "ec851395",
   "metadata": {},
   "outputs": [],
   "source": [
    "adj_close_df=pd.DataFrame()"
   ]
  },
  {
   "cell_type": "code",
   "execution_count": 6,
   "id": "b0cf05be",
   "metadata": {},
   "outputs": [
    {
     "name": "stderr",
     "output_type": "stream",
     "text": [
      "[*********************100%***********************]  1 of 1 completed\n",
      "[*********************100%***********************]  1 of 1 completed\n",
      "[*********************100%***********************]  1 of 1 completed\n",
      "[*********************100%***********************]  1 of 1 completed\n",
      "[*********************100%***********************]  1 of 1 completed\n",
      "[*********************100%***********************]  1 of 1 completed\n"
     ]
    }
   ],
   "source": [
    "for ticker in tickers:\n",
    "    data=yf.download(ticker, auto_adjust=False, start = start_date, end = end_date)\n",
    "    adj_close_df[ticker] = data['Adj Close']"
   ]
  },
  {
   "cell_type": "code",
   "execution_count": 7,
   "id": "6406a532",
   "metadata": {},
   "outputs": [
    {
     "name": "stdout",
     "output_type": "stream",
     "text": [
      "                   SPY        BND         GLD         QQQ         VTI  \\\n",
      "Date                                                                    \n",
      "2020-08-04  307.324829  77.300972  189.589996  262.551056  155.813217   \n",
      "2020-08-05  309.233673  77.197250  191.350006  263.201691  156.947266   \n",
      "2020-08-06  311.300690  77.318237  193.889999  266.687775  157.709518   \n",
      "2020-08-07  311.524261  77.231834  190.809998  263.609589  157.839645   \n",
      "2020-08-10  312.455383  77.145462  190.149994  262.483063  158.276581   \n",
      "...                ...        ...         ...         ...         ...   \n",
      "2025-07-28  636.940002  72.758659  305.410004  568.140015  313.600006   \n",
      "2025-07-29  635.260010  73.137398  306.250000  567.260010  312.609985   \n",
      "2025-07-30  634.460022  72.948036  300.959991  568.020020  312.250000   \n",
      "2025-07-31  632.080017  72.957993  302.959991  565.010010  310.890015   \n",
      "2025-08-01  621.719971  73.589996  309.109985  553.880005  305.739990   \n",
      "\n",
      "                  BTC  \n",
      "Date                   \n",
      "2020-08-04        NaN  \n",
      "2020-08-05        NaN  \n",
      "2020-08-06        NaN  \n",
      "2020-08-07        NaN  \n",
      "2020-08-10        NaN  \n",
      "...               ...  \n",
      "2025-07-28  52.330002  \n",
      "2025-07-29  52.040001  \n",
      "2025-07-30  51.770000  \n",
      "2025-07-31  51.700001  \n",
      "2025-08-01  50.049999  \n",
      "\n",
      "[1255 rows x 6 columns]\n"
     ]
    }
   ],
   "source": [
    "print(adj_close_df)"
   ]
  },
  {
   "cell_type": "code",
   "execution_count": 8,
   "id": "9259164d",
   "metadata": {},
   "outputs": [],
   "source": [
    "log_returns = np.log(adj_close_df/adj_close_df.shift(1))"
   ]
  },
  {
   "cell_type": "code",
   "execution_count": 9,
   "id": "8653298d",
   "metadata": {},
   "outputs": [],
   "source": [
    "log_returns = log_returns.dropna()"
   ]
  },
  {
   "cell_type": "code",
   "execution_count": 10,
   "id": "662fe45b",
   "metadata": {},
   "outputs": [
    {
     "name": "stdout",
     "output_type": "stream",
     "text": [
      "          SPY       BND       GLD       QQQ       VTI       BTC\n",
      "SPY  0.040420  0.000453  0.001766  0.047975  0.040410  0.045294\n",
      "BND  0.000453  0.002703  0.001568 -0.000089  0.000435 -0.000747\n",
      "GLD  0.001766  0.001568  0.031098  0.002510  0.001637  0.007804\n",
      "QQQ  0.047975 -0.000089  0.002510  0.060592  0.047941  0.057565\n",
      "VTI  0.040410  0.000435  0.001637  0.047941  0.040560  0.047216\n",
      "BTC  0.045294 -0.000747  0.007804  0.057565  0.047216  0.252573\n"
     ]
    }
   ],
   "source": [
    "cov_matrix = log_returns.cov()*252\n",
    "print(cov_matrix)"
   ]
  },
  {
   "cell_type": "code",
   "execution_count": 11,
   "id": "9a3841b4",
   "metadata": {},
   "outputs": [],
   "source": [
    "def standard_deviation (weights, cov_matrix):\n",
    "    variance= weights.T @ cov_matrix @ weights\n",
    "    return np.sqrt(variance)"
   ]
  },
  {
   "cell_type": "code",
   "execution_count": 12,
   "id": "d6a90e8f",
   "metadata": {},
   "outputs": [],
   "source": [
    "def expected_return (weights, log_returns):\n",
    "    return np.sum(log_returns.mean()*weights)*252"
   ]
  },
  {
   "cell_type": "code",
   "execution_count": 13,
   "id": "1227b3c3",
   "metadata": {},
   "outputs": [],
   "source": [
    "def sharpe_ratio (weights, log_returns, cov_matrix, risk_free_rate):\n",
    "    return(expected_return (weights, log_returns) - risk_free_rate) / standard_deviation (weights, cov_matrix)"
   ]
  },
  {
   "cell_type": "code",
   "execution_count": 14,
   "id": "d3fab9c2",
   "metadata": {},
   "outputs": [],
   "source": [
    "risk_free_rate = 0.02"
   ]
  },
  {
   "cell_type": "code",
   "execution_count": 15,
   "id": "7fdfad72",
   "metadata": {},
   "outputs": [],
   "source": [
    "def neg_sharpe_ratio (weights, log_returns, cov_matrix, risk_free_rate):\n",
    "    return -sharpe_ratio (weights, log_returns, cov_matrix, risk_free_rate)"
   ]
  },
  {
   "cell_type": "code",
   "execution_count": 16,
   "id": "a4c70c41",
   "metadata": {},
   "outputs": [],
   "source": [
    "constraints = {'type': 'eq', 'fun': lambda weights: np.sum(weights) - 1}\n",
    "bounds = [(0, 0.5) for _ in range(len(tickers))]"
   ]
  },
  {
   "cell_type": "code",
   "execution_count": 17,
   "id": "049d2a83",
   "metadata": {},
   "outputs": [
    {
     "name": "stdout",
     "output_type": "stream",
     "text": [
      "[0.16666667 0.16666667 0.16666667 0.16666667 0.16666667 0.16666667]\n"
     ]
    }
   ],
   "source": [
    "initial_weights = np.array([1/len(tickers)]*len(tickers))\n",
    "print(initial_weights)"
   ]
  },
  {
   "cell_type": "code",
   "execution_count": 18,
   "id": "3d09ff38",
   "metadata": {},
   "outputs": [],
   "source": [
    "optimized_results = minimize(neg_sharpe_ratio, initial_weights, args=(log_returns, cov_matrix, risk_free_rate), method='SLSQP', constraints=constraints, bounds=bounds)"
   ]
  },
  {
   "cell_type": "code",
   "execution_count": 19,
   "id": "f944b17d",
   "metadata": {},
   "outputs": [],
   "source": [
    "optimal_weights = optimized_results.x"
   ]
  },
  {
   "cell_type": "code",
   "execution_count": 20,
   "id": "cd42c0db",
   "metadata": {},
   "outputs": [
    {
     "name": "stdout",
     "output_type": "stream",
     "text": [
      "Optimal Weights:\n",
      "SPY:  0.0000\n",
      "BND:  0.3629\n",
      "GLD:  0.5000\n",
      "QQQ:  0.0323\n",
      "VTI:  0.0000\n",
      "BTC:  0.1047\n",
      "\n",
      "Expected  Annual Return: 0.2343\n",
      "Expected Volatility: 0.1130\n",
      "Sharpe Ratio: 1.8966\n"
     ]
    }
   ],
   "source": [
    "print(\"Optimal Weights:\")\n",
    "for ticker, weight in zip(tickers, optimal_weights):\n",
    "    print(f\"{ticker}: {weight: .4f}\")\n",
    "print()\n",
    "\n",
    "optimal_portfolio_returns = expected_return(optimal_weights, log_returns)\n",
    "optimal_porfolio_volatility = standard_deviation(optimal_weights, cov_matrix)\n",
    "optimal_Sharpe_ratio = sharpe_ratio(optimal_weights, log_returns, cov_matrix, risk_free_rate)\n",
    "\n",
    "print(f\"Expected  Annual Return: {optimal_portfolio_returns:.4f}\")\n",
    "print(f\"Expected Volatility: {optimal_porfolio_volatility:.4f}\")\n",
    "print(f\"Sharpe Ratio: {optimal_Sharpe_ratio:.4f}\")"
   ]
  },
  {
   "cell_type": "code",
   "execution_count": 21,
   "id": "1c555bef",
   "metadata": {},
   "outputs": [
    {
     "data": {
      "image/png": "[encoded data removed]",
      "text/plain": [
       "<Figure size 640x480 with 1 Axes>"
      ]
     },
     "metadata": {},
     "output_type": "display_data"
    }
   ],
   "source": [
    "import matplotlib.pyplot as plot\n",
    "plot.Figure(figsize=(10, 6))\n",
    "plot.bar(tickers, optimal_weights)\n",
    "\n",
    "plot.xlabel(\"Asset\")\n",
    "plot.ylabel(\"Optimal Weights\")\n",
    "plot.title(\"Optimal Portfolio Weights\")\n",
    "plot.show()"
   ]
  }
 ],
 "metadata": {
  "kernelspec": {
   "display_name": ".venv",
   "language": "python",
   "name": "python3"
  },
  "language_info": {
   "codemirror_mode": {
    "name": "ipython",
    "version": 3
   },
   "file_extension": ".py",
   "mimetype": "text/x-python",
   "name": "python",
   "nbconvert_exporter": "python",
   "pygments_lexer": "ipython3",
   "version": "3.13.5"
  }
 },
 "nbformat": 4,
 "nbformat_minor": 5
}
